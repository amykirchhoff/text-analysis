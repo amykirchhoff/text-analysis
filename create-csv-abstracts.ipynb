{
 "cells": [
  {
   "cell_type": "markdown",
   "metadata": {},
   "source": [
    "<img align=\"left\" src=\"https://ithaka-labs.s3.amazonaws.com/static-files/images/tdm/tdmdocs/CC_BY.png\"><br />\n",
    "\n",
    "Created by Amy Kirchhoff for [Constellate](https://constellate.orng/) under [Creative Commons CC BY License](https://creativecommons.org/licenses/by/4.0/)<br />\n",
    "For questions/comments/improvements, email amy.kirchhoff@ithaka.org.<br />\n",
    "\n",
    "# Create a CSV from a Dataset with Abstracts\n",
    "\n",
    "\n",
    "\n",
    "___"
   ]
  },
  {
   "cell_type": "markdown",
   "metadata": {},
   "source": [
    "## Import your dataset\n",
    "\n",
    "We'll use the `constellate` client to automatically retrieve the dataset in the JSON file format. \n",
    "\n",
    "Enter a [dataset ID](https://docs.constellate.org/key-terms/#dataset-ID) in the next code cell.\n",
    "\n",
    "If you don't have a dataset ID, you can:\n",
    "* Use the sample dataset ID already in the code cell\n",
    "* [Create a new dataset](https://constellate.org/builder)\n",
    "* [Use a dataset ID from other pre-built sample datasets](https://constellate.org/dataset/dashboard)"
   ]
  },
  {
   "cell_type": "code",
   "execution_count": null,
   "metadata": {},
   "outputs": [],
   "source": [
    "# Creating a variable `dataset_id` to hold our dataset ID\n",
    "# The default dataset is Shakespeare Quarterly, 1950-present\n",
    "dataset_id = \"18ca8082-f0af-eb43-0d51-11ce559b3ec1\""
   ]
  },
  {
   "cell_type": "markdown",
   "metadata": {},
   "source": [
    "Next, import the `constellate` client, passing the `dataset_id` as an argument using the `get_dataset` method."
   ]
  },
  {
   "cell_type": "code",
   "execution_count": null,
   "metadata": {},
   "outputs": [],
   "source": [
    "# Importing your dataset with a dataset ID\n",
    "import constellate\n",
    "# Pull in the sampled dataset (1500 documents) that matches `dataset_id`\n",
    "# in the form of a gzipped JSON lines file.\n",
    "# The .get_dataset() method downloads the gzipped JSONL file\n",
    "# to the /data folder and returns a string for the file name and location\n",
    "#dataset_file = constellate.get_dataset(dataset_id)\n",
    "\n",
    "# To download the full dataset (up to a limit of 25,000 documents),\n",
    "# request it first in the builder environment. See the Constellate Client\n",
    "# documentation at: https://constellate.org/docs/constellate-client\n",
    "# Then use the `constellate.download` method show below.\n",
    "dataset_file = constellate.download(dataset_id, 'jsonl')"
   ]
  },
  {
   "cell_type": "markdown",
   "metadata": {},
   "source": [
    "Import some of the packages we will need."
   ]
  },
  {
   "cell_type": "code",
   "execution_count": null,
   "metadata": {},
   "outputs": [],
   "source": [
    "import csv\n",
    "import pandas as pd"
   ]
  },
  {
   "cell_type": "markdown",
   "metadata": {},
   "source": [
    "Set up the dataframe"
   ]
  },
  {
   "cell_type": "code",
   "execution_count": null,
   "metadata": {},
   "outputs": [],
   "source": [
    "df = pd.DataFrame(columns = ['id', 'docType', 'docSubType', 'provider', 'title', 'subTitle', 'collection', 'creator', 'publicationYear', \n",
    "                             'isPartOf', 'doi', 'pageStart', 'pageEnd', 'pageCount', 'wordCount', 'pagination', 'language', \n",
    "                             'publisher', 'placeOfPublication', 'identifier', 'abstract', 'url', 'tdmCategory', \n",
    "                             'sourceCategory', 'sequence', 'issueNumber', 'volumeNumber', 'outputFormat', 'datePublished' ])"
   ]
  },
  {
   "cell_type": "markdown",
   "metadata": {},
   "source": [
    "Read each document using the tdm_client.dataset_reader and insert the pertinent fields into our dataframe."
   ]
  },
  {
   "cell_type": "code",
   "execution_count": null,
   "metadata": {
    "tags": []
   },
   "outputs": [],
   "source": [
    "i=0;\n",
    "for document in constellate.dataset_reader(dataset_file):\n",
    "    #print(type(document))\n",
    "    i=i+1;\n",
    "    \n",
    "    df=pd.concat([df, pd.DataFrame.from_records([{'id' : document['id'], \n",
    "                  'docType':document.get('docType', \"\"), \n",
    "                  'docSubType':document.get('docSubType', \"\"),\n",
    "                  'provider':document.get('provider', \"\"),\n",
    "                  'title':document.get('title', \"\"),\n",
    "                  'subTitle':document.get('subTitle', \"\"),\n",
    "                  'collection':document.get('collection', \"\"),\n",
    "                  'creator':document.get('creator', \"\"),\n",
    "                  'publicationYear':document.get('publicationYear', \"\"),\n",
    "                  'isPartOf':document.get('isPartOf', \"\"),\n",
    "                  'doi':document.get('doi', \"\"),\n",
    "                  'pageStart':document.get('pageStart', \"\"),\n",
    "                  'pageEnd':document.get('pageEnd', \"\"),\n",
    "                  'pageCount':document.get('pageCount', \"\"),\n",
    "                  'wordCount':document.get('wordCount', \"\"),\n",
    "                  'pagination':document.get('pagination', \"\"),\n",
    "                  'language':document.get('language', \"\"),\n",
    "                  'publisher':document.get('publisher', \"\"),\n",
    "                  'placeOfPublication':document.get('placeOfPublication', \"\"),\n",
    "                  'identifier':document.get('identifier', \"\"),\n",
    "                  'abstract':document.get('abstract', \"\"),\n",
    "                  'url':document.get('url', \"\"),\n",
    "                  'wordCount':document.get('wordCount', \"\"),\n",
    "                  'tdmCategory':document.get('tdmCategory', \"\"),\n",
    "                  'sourceCategory':document.get('sourceCategory', \"\"),\n",
    "                  'sequence':document.get('sequence', \"\"),   \n",
    "                  'issueNumber':document.get('issueNumber', \"\"),\n",
    "                  'volumeNumber':document.get('volumeNumber', \"\"),\n",
    "                  'outputFormat':document.get('outputFormat', \"\"),\n",
    "                  'datePublished':document.get('datePublished', \"\")\n",
    "                 }])\n",
    "                  \n",
    "                ]\n",
    "                )\n",
    "\n",
    "    \n",
    "    # We could make the above better by dealing with the lists of identifiers and authors in a more thoughtful way\n",
    "    \n",
    "    if i%100 == 0:\n",
    "        print(\"At document #: \" + str(i))\n",
    "    \n",
    "df\n",
    "        \n",
    "    "
   ]
  },
  {
   "cell_type": "code",
   "execution_count": null,
   "metadata": {},
   "outputs": [],
   "source": [
    "df.to_csv(dataset_id + \"-md-with-abstracts.csv\", encoding='utf-8')"
   ]
  },
  {
   "cell_type": "code",
   "execution_count": null,
   "metadata": {},
   "outputs": [],
   "source": []
  }
 ],
 "metadata": {
  "kernelspec": {
   "display_name": "Python 3 (ipykernel)",
   "language": "python",
   "name": "python3"
  },
  "language_info": {
   "codemirror_mode": {
    "name": "ipython",
    "version": 3
   },
   "file_extension": ".py",
   "mimetype": "text/x-python",
   "name": "python",
   "nbconvert_exporter": "python",
   "pygments_lexer": "ipython3",
   "version": "3.10.6"
  },
  "toc": {
   "base_numbering": 1,
   "nav_menu": {},
   "number_sections": true,
   "sideBar": true,
   "skip_h1_title": true,
   "title_cell": "Table of Contents",
   "title_sidebar": "Contents",
   "toc_cell": false,
   "toc_position": {},
   "toc_section_display": true,
   "toc_window_display": false
  }
 },
 "nbformat": 4,
 "nbformat_minor": 4
}
