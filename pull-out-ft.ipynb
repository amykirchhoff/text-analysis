{
 "cells": [
  {
   "cell_type": "markdown",
   "metadata": {},
   "source": [
    "<img align=\"left\" src=\"https://ithaka-labs.s3.amazonaws.com/static-files/images/tdm/tdmdocs/CC_BY.png\"><br />\n",
    "\n",
    "Created by Amy Kirchhoff for [Constellate](https://constellate.orng/) under [Creative Commons CC BY License](https://creativecommons.org/licenses/by/4.0/)<br />\n",
    "For questions/comments/improvements, email amy.kirchhoff@ithaka.org.<br />\n",
    "\n",
    "# Pull FT out and drop it into a directory of files\n",
    "\n",
    "\n",
    "\n",
    "___"
   ]
  },
  {
   "cell_type": "markdown",
   "metadata": {},
   "source": [
    "## Import your dataset\n",
    "\n",
    "We'll use the `constellate` client to automatically retrieve the dataset in the JSON file format. \n",
    "\n",
    "Enter a [dataset ID](https://docs.constellate.org/key-terms/#dataset-ID) in the next code cell.\n",
    "\n",
    "If you don't have a dataset ID, you can:\n",
    "* Use the sample dataset ID already in the code cell\n",
    "* [Create a new dataset](https://constellate.org/builder)\n",
    "* [Use a dataset ID from other pre-built sample datasets](https://constellate.org/dataset/dashboard)"
   ]
  },
  {
   "cell_type": "code",
   "execution_count": null,
   "metadata": {},
   "outputs": [],
   "source": [
    "# Creating a variable `dataset_id` to hold our dataset ID\n",
    "# The default dataset is Shakespeare Quarterly, 1950-present\n",
    "#dataset_id = \"18ca8082-f0af-eb43-0d51-11ce559b3ec1\""
   ]
  },
  {
   "cell_type": "markdown",
   "metadata": {},
   "source": [
    "Next, import the `constellate` client, passing the `dataset_id` as an argument using the `get_dataset` method."
   ]
  },
  {
   "cell_type": "code",
   "execution_count": 5,
   "metadata": {
    "execution": {
     "iopub.execute_input": "2024-03-06T16:30:08.734010Z",
     "iopub.status.busy": "2024-03-06T16:30:08.733595Z",
     "iopub.status.idle": "2024-03-06T16:30:08.737657Z",
     "shell.execute_reply": "2024-03-06T16:30:08.737099Z",
     "shell.execute_reply.started": "2024-03-06T16:30:08.733988Z"
    },
    "tags": []
   },
   "outputs": [],
   "source": [
    "# Importing your dataset with a dataset ID\n",
    "import constellate\n",
    "import os\n",
    "from pathlib import Path\n",
    "import csv\n",
    "import pandas as pd\n",
    "\n",
    "# Check if a data folder exists. If not, create it.\n",
    "data_folder = Path('./data/')\n",
    "data_folder.mkdir(exist_ok=True)\n",
    "\n",
    "# Check to see if a dataset file exists\n",
    "# If not, download a dataset using the Constellate Client\n",
    "# The default dataset is Shakespeare Quarterly, 1950-present\n",
    "dataset_file = Path.cwd() / 'data' / 'my_data.jsonl.gz' # Make sure this filepath matches your dataset filename"
   ]
  },
  {
   "cell_type": "markdown",
   "metadata": {},
   "source": [
    "Import some of the packages we will need."
   ]
  },
  {
   "cell_type": "code",
   "execution_count": null,
   "metadata": {},
   "outputs": [],
   "source": []
  },
  {
   "cell_type": "markdown",
   "metadata": {},
   "source": [
    "Set up the dataframe"
   ]
  },
  {
   "cell_type": "code",
   "execution_count": 8,
   "metadata": {
    "execution": {
     "iopub.execute_input": "2024-03-06T16:31:15.571810Z",
     "iopub.status.busy": "2024-03-06T16:31:15.571480Z",
     "iopub.status.idle": "2024-03-06T16:31:15.577393Z",
     "shell.execute_reply": "2024-03-06T16:31:15.576785Z",
     "shell.execute_reply.started": "2024-03-06T16:31:15.571788Z"
    },
    "tags": []
   },
   "outputs": [],
   "source": [
    "df = pd.DataFrame(columns = ['id', 'docType', 'docSubType', 'provider', 'title', 'subTitle', 'collection', 'creator', 'publicationYear', \n",
    "                             'isPartOf', 'doi', 'pageStart', 'pageEnd', 'pageCount', 'wordCount', 'pagination', 'language', \n",
    "                             'publisher', 'placeOfPublication', 'identifier', 'abstract', 'url', 'tdmCategory', \n",
    "                             'sourceCategory', 'sequence', 'issueNumber', 'volumeNumber', 'outputFormat', 'datePublished', 'fullText' ])\n",
    "\n",
    "ft_folder = Path('./ft/')\n",
    "ft_folder.mkdir(exist_ok=True)\n",
    "#os.mkdir(\"fulltext\")\n"
   ]
  },
  {
   "cell_type": "markdown",
   "metadata": {},
   "source": [
    "Read each document using the tdm_client.dataset_reader and insert the pertinent fields into our dataframe."
   ]
  },
  {
   "cell_type": "code",
   "execution_count": 16,
   "metadata": {
    "execution": {
     "iopub.execute_input": "2024-03-06T16:41:06.572058Z",
     "iopub.status.busy": "2024-03-06T16:41:06.571717Z",
     "iopub.status.idle": "2024-03-06T16:41:06.913709Z",
     "shell.execute_reply": "2024-03-06T16:41:06.912829Z",
     "shell.execute_reply.started": "2024-03-06T16:41:06.572034Z"
    },
    "tags": []
   },
   "outputs": [
    {
     "name": "stdout",
     "output_type": "stream",
     "text": [
      "http:__www.jstor.org_stable_44258294.txt\n",
      "http:__www.jstor.org_stable_20093314.txt\n",
      "http:__www.jstor.org_stable_463388.txt\n",
      "http:__www.jstor.org_stable_40783471.txt\n",
      "http:__www.jstor.org_stable_26394681.txt\n",
      "http:__www.jstor.org_stable_44991483.txt\n",
      "http:__www.jstor.org_stable_j.ctt9qgdv7.txt\n",
      "http:__www.jstor.org_stable_j.ctvktrvqn.txt\n",
      "http:__www.jstor.org_stable_j.ctv1wxsdq.txt\n",
      "http:__www.jstor.org_stable_27642740.txt\n",
      "http:__www.jstor.org_stable_23539624.txt\n",
      "http:__www.jstor.org_stable_10.1525_si.1993.16.1.toc.txt\n",
      "http:__www.jstor.org_stable_j.ctv3znzfk.txt\n",
      "http:__www.jstor.org_stable_40425881.txt\n",
      "http:__www.jstor.org_stable_40388740.txt\n",
      "http:__www.jstor.org_stable_3337872.txt\n",
      "http:__www.jstor.org_stable_462654.txt\n",
      "http:__www.jstor.org_stable_463657.txt\n",
      "http:__www.jstor.org_stable_44986092.txt\n",
      "http:__www.jstor.org_stable_10.5406_jfilmvideo.62.4.0031.txt\n",
      "http:__www.jstor.org_stable_20441045.txt\n",
      "http:__www.jstor.org_stable_44990758.txt\n",
      "http:__www.jstor.org_stable_10.1525_fq.2001.54.4.42.txt\n",
      "http:__www.jstor.org_stable_j.ctt19qgddn.txt\n",
      "http:__www.jstor.org_stable_10.3998_mpub.11519906.txt\n",
      "http:__www.jstor.org_stable_3338046.txt\n",
      "http:__www.jstor.org_stable_4121246.txt\n",
      "http:__www.jstor.org_stable_23540333.txt\n",
      "http:__www.jstor.org_stable_41221387.txt\n",
      "http:__www.jstor.org_stable_1343412.txt\n",
      "http:__www.jstor.org_stable_44990259.txt\n",
      "http:__www.jstor.org_stable_j.ctv125jj09.txt\n",
      "http:__www.jstor.org_stable_27592184.txt\n",
      "http:__www.jstor.org_stable_j.ctvbkjv99.txt\n",
      "http:__www.jstor.org_stable_4022224.txt\n",
      "http:__www.jstor.org_stable_48547402.txt\n",
      "http:__www.jstor.org_stable_2693172.txt\n",
      "http:__www.jstor.org_stable_20866466.txt\n",
      "http:__www.jstor.org_stable_42894332.txt\n",
      "http:__www.jstor.org_stable_25112475.txt\n",
      "http:__www.jstor.org_stable_j.ctv16zk03m.txt\n",
      "http:__www.jstor.org_stable_jj.5864774.txt\n",
      "http:__www.jstor.org_stable_40176756.txt\n",
      "http:__www.jstor.org_stable_40338644.txt\n",
      "http:__www.jstor.org_stable_j.ctv371c6n0.txt\n",
      "http:__www.jstor.org_stable_j.ctv371c6n0.9.txt\n",
      "http:__www.jstor.org_stable_656301.txt\n",
      "http:__www.jstor.org_stable_40171621.txt\n",
      "http:__www.jstor.org_stable_j.ctt46mt37.txt\n",
      "http:__www.jstor.org_stable_3106997.txt\n",
      "http:__www.jstor.org_stable_23539433.txt\n",
      "http:__www.jstor.org_stable_j.ctt46nx6f.txt\n",
      "http:__www.jstor.org_stable_29779457.txt\n",
      "http:__www.jstor.org_stable_3704560.txt\n",
      "http:__www.jstor.org_stable_10.3998_mpub.11519906.14.txt\n",
      "http:__www.jstor.org_stable_4317028.txt\n",
      "http:__www.jstor.org_stable_44990244.txt\n",
      "http:__www.jstor.org_stable_4022080.txt\n",
      "http:__www.jstor.org_stable_41319049.txt\n",
      "http:__www.jstor.org_stable_1001082.txt\n"
     ]
    },
    {
     "ename": "EOFError",
     "evalue": "Compressed file ended before the end-of-stream marker was reached",
     "output_type": "error",
     "traceback": [
      "\u001b[0;31m---------------------------------------------------------------------------\u001b[0m",
      "\u001b[0;31mEOFError\u001b[0m                                  Traceback (most recent call last)",
      "Cell \u001b[0;32mIn[16], line 2\u001b[0m\n\u001b[1;32m      1\u001b[0m i\u001b[38;5;241m=\u001b[39m\u001b[38;5;241m0\u001b[39m;\n\u001b[0;32m----> 2\u001b[0m \u001b[38;5;28;01mfor\u001b[39;00m document \u001b[38;5;129;01min\u001b[39;00m constellate\u001b[38;5;241m.\u001b[39mdataset_reader(dataset_file):\n\u001b[1;32m      3\u001b[0m     \u001b[38;5;66;03m#print(type(document))\u001b[39;00m\n\u001b[1;32m      4\u001b[0m     i\u001b[38;5;241m=\u001b[39mi\u001b[38;5;241m+\u001b[39m\u001b[38;5;241m1\u001b[39m;\n\u001b[1;32m      6\u001b[0m     ft_name \u001b[38;5;241m=\u001b[39m document\u001b[38;5;241m.\u001b[39mget(\u001b[38;5;124m'\u001b[39m\u001b[38;5;124mid\u001b[39m\u001b[38;5;124m'\u001b[39m, \u001b[38;5;124m\"\u001b[39m\u001b[38;5;124m\"\u001b[39m)\n",
      "File \u001b[0;32m/opt/conda/lib/python3.10/site-packages/constellate/client.py:156\u001b[0m, in \u001b[0;36mdataset_reader\u001b[0;34m(file_path)\u001b[0m\n\u001b[1;32m    151\u001b[0m \u001b[38;5;250m\u001b[39m\u001b[38;5;124;03m\"\"\"\u001b[39;00m\n\u001b[1;32m    152\u001b[0m \u001b[38;5;124;03mHelper to read in gzip files and yield Python dictionary\u001b[39;00m\n\u001b[1;32m    153\u001b[0m \u001b[38;5;124;03mdocuments.\u001b[39;00m\n\u001b[1;32m    154\u001b[0m \u001b[38;5;124;03m\"\"\"\u001b[39;00m\n\u001b[1;32m    155\u001b[0m \u001b[38;5;28;01mwith\u001b[39;00m gzip\u001b[38;5;241m.\u001b[39mopen(file_path, \u001b[38;5;124m\"\u001b[39m\u001b[38;5;124mrb\u001b[39m\u001b[38;5;124m\"\u001b[39m) \u001b[38;5;28;01mas\u001b[39;00m input_file:\n\u001b[0;32m--> 156\u001b[0m     \u001b[38;5;28;01mfor\u001b[39;00m row \u001b[38;5;129;01min\u001b[39;00m input_file:\n\u001b[1;32m    157\u001b[0m         \u001b[38;5;28;01myield\u001b[39;00m json\u001b[38;5;241m.\u001b[39mloads(row)\n",
      "File \u001b[0;32m/opt/conda/lib/python3.10/gzip.py:399\u001b[0m, in \u001b[0;36mGzipFile.readline\u001b[0;34m(self, size)\u001b[0m\n\u001b[1;32m    397\u001b[0m \u001b[38;5;28;01mdef\u001b[39;00m \u001b[38;5;21mreadline\u001b[39m(\u001b[38;5;28mself\u001b[39m, size\u001b[38;5;241m=\u001b[39m\u001b[38;5;241m-\u001b[39m\u001b[38;5;241m1\u001b[39m):\n\u001b[1;32m    398\u001b[0m     \u001b[38;5;28mself\u001b[39m\u001b[38;5;241m.\u001b[39m_check_not_closed()\n\u001b[0;32m--> 399\u001b[0m     \u001b[38;5;28;01mreturn\u001b[39;00m \u001b[38;5;28;43mself\u001b[39;49m\u001b[38;5;241;43m.\u001b[39;49m\u001b[43m_buffer\u001b[49m\u001b[38;5;241;43m.\u001b[39;49m\u001b[43mreadline\u001b[49m\u001b[43m(\u001b[49m\u001b[43msize\u001b[49m\u001b[43m)\u001b[49m\n",
      "File \u001b[0;32m/opt/conda/lib/python3.10/_compression.py:68\u001b[0m, in \u001b[0;36mDecompressReader.readinto\u001b[0;34m(self, b)\u001b[0m\n\u001b[1;32m     66\u001b[0m \u001b[38;5;28;01mdef\u001b[39;00m \u001b[38;5;21mreadinto\u001b[39m(\u001b[38;5;28mself\u001b[39m, b):\n\u001b[1;32m     67\u001b[0m     \u001b[38;5;28;01mwith\u001b[39;00m \u001b[38;5;28mmemoryview\u001b[39m(b) \u001b[38;5;28;01mas\u001b[39;00m view, view\u001b[38;5;241m.\u001b[39mcast(\u001b[38;5;124m\"\u001b[39m\u001b[38;5;124mB\u001b[39m\u001b[38;5;124m\"\u001b[39m) \u001b[38;5;28;01mas\u001b[39;00m byte_view:\n\u001b[0;32m---> 68\u001b[0m         data \u001b[38;5;241m=\u001b[39m \u001b[38;5;28;43mself\u001b[39;49m\u001b[38;5;241;43m.\u001b[39;49m\u001b[43mread\u001b[49m\u001b[43m(\u001b[49m\u001b[38;5;28;43mlen\u001b[39;49m\u001b[43m(\u001b[49m\u001b[43mbyte_view\u001b[49m\u001b[43m)\u001b[49m\u001b[43m)\u001b[49m\n\u001b[1;32m     69\u001b[0m         byte_view[:\u001b[38;5;28mlen\u001b[39m(data)] \u001b[38;5;241m=\u001b[39m data\n\u001b[1;32m     70\u001b[0m     \u001b[38;5;28;01mreturn\u001b[39;00m \u001b[38;5;28mlen\u001b[39m(data)\n",
      "File \u001b[0;32m/opt/conda/lib/python3.10/gzip.py:507\u001b[0m, in \u001b[0;36m_GzipReader.read\u001b[0;34m(self, size)\u001b[0m\n\u001b[1;32m    505\u001b[0m         \u001b[38;5;28;01mbreak\u001b[39;00m\n\u001b[1;32m    506\u001b[0m     \u001b[38;5;28;01mif\u001b[39;00m buf \u001b[38;5;241m==\u001b[39m \u001b[38;5;124mb\u001b[39m\u001b[38;5;124m\"\u001b[39m\u001b[38;5;124m\"\u001b[39m:\n\u001b[0;32m--> 507\u001b[0m         \u001b[38;5;28;01mraise\u001b[39;00m \u001b[38;5;167;01mEOFError\u001b[39;00m(\u001b[38;5;124m\"\u001b[39m\u001b[38;5;124mCompressed file ended before the \u001b[39m\u001b[38;5;124m\"\u001b[39m\n\u001b[1;32m    508\u001b[0m                        \u001b[38;5;124m\"\u001b[39m\u001b[38;5;124mend-of-stream marker was reached\u001b[39m\u001b[38;5;124m\"\u001b[39m)\n\u001b[1;32m    510\u001b[0m \u001b[38;5;28mself\u001b[39m\u001b[38;5;241m.\u001b[39m_add_read_data( uncompress )\n\u001b[1;32m    511\u001b[0m \u001b[38;5;28mself\u001b[39m\u001b[38;5;241m.\u001b[39m_pos \u001b[38;5;241m+\u001b[39m\u001b[38;5;241m=\u001b[39m \u001b[38;5;28mlen\u001b[39m(uncompress)\n",
      "\u001b[0;31mEOFError\u001b[0m: Compressed file ended before the end-of-stream marker was reached"
     ]
    }
   ],
   "source": [
    "i=0;\n",
    "for document in constellate.dataset_reader(dataset_file):\n",
    "    #print(type(document))\n",
    "    i=i+1;\n",
    "    \n",
    "    ft_name = document.get('id', \"\")\n",
    "    ft_name = ft_name.replace('/', '_') + \".txt\"\n",
    "    \n",
    "    print(ft_name)\n",
    "    \n",
    "    ft=document.get('fullText', \"\")\n",
    "                    \n",
    "    with open('./ft/' + ft_name, 'w') as f:\n",
    "        for str in ft:\n",
    "            f.write(str)\n",
    "\n",
    "        \n",
    "    "
   ]
  },
  {
   "cell_type": "code",
   "execution_count": null,
   "metadata": {},
   "outputs": [],
   "source": [
    "df.to_csv(dataset_id + \"-md-with-abstracts.csv\", encoding='utf-8')"
   ]
  },
  {
   "cell_type": "code",
   "execution_count": null,
   "metadata": {},
   "outputs": [],
   "source": []
  }
 ],
 "metadata": {
  "kernelspec": {
   "display_name": "Python 3 (ipykernel)",
   "language": "python",
   "name": "python3"
  },
  "language_info": {
   "codemirror_mode": {
    "name": "ipython",
    "version": 3
   },
   "file_extension": ".py",
   "mimetype": "text/x-python",
   "name": "python",
   "nbconvert_exporter": "python",
   "pygments_lexer": "ipython3",
   "version": "3.10.6"
  },
  "toc": {
   "base_numbering": 1,
   "nav_menu": {},
   "number_sections": true,
   "sideBar": true,
   "skip_h1_title": true,
   "title_cell": "Table of Contents",
   "title_sidebar": "Contents",
   "toc_cell": false,
   "toc_position": {},
   "toc_section_display": true,
   "toc_window_display": false
  }
 },
 "nbformat": 4,
 "nbformat_minor": 4
}
