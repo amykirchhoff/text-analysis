{
 "cells": [
  {
   "cell_type": "markdown",
   "metadata": {},
   "source": [
    "<img align=\"left\" src=\"https://ithaka-labs.s3.amazonaws.com/static-files/images/tdm/tdmdocs/CC_BY.png\"><br />\n",
    "\n",
    "Created by Amy Kirchhoff for [Constellate](https://constellate.orng/) under [Creative Commons CC BY License](https://creativecommons.org/licenses/by/4.0/)<br />\n",
    "For questions/comments/improvements, email amy.kirchhoff@ithaka.org.<br />\n",
    "\n",
    "# Pull FT out and drop it into a directory of files\n",
    "\n",
    "\n",
    "\n",
    "___"
   ]
  },
  {
   "cell_type": "markdown",
   "metadata": {},
   "source": [
    "## Import your dataset\n",
    "\n",
    "We'll use the `constellate` client to automatically retrieve the dataset in the JSON file format. \n",
    "\n",
    "Enter a [dataset ID](https://docs.constellate.org/key-terms/#dataset-ID) in the next code cell.\n",
    "\n",
    "If you don't have a dataset ID, you can:\n",
    "* Use the sample dataset ID already in the code cell\n",
    "* [Create a new dataset](https://constellate.org/builder)\n",
    "* [Use a dataset ID from other pre-built sample datasets](https://constellate.org/dataset/dashboard)"
   ]
  },
  {
   "cell_type": "code",
   "execution_count": null,
   "metadata": {},
   "outputs": [],
   "source": [
    "# Creating a variable `dataset_id` to hold our dataset ID\n",
    "# The default dataset is Shakespeare Quarterly, 1950-present\n",
    "#dataset_id = \"18ca8082-f0af-eb43-0d51-11ce559b3ec1\""
   ]
  },
  {
   "cell_type": "markdown",
   "metadata": {},
   "source": [
    "Next, import the `constellate` client, passing the `dataset_id` as an argument using the `get_dataset` method."
   ]
  },
  {
   "cell_type": "code",
   "execution_count": 1,
   "metadata": {
    "execution": {
     "iopub.execute_input": "2024-03-06T19:17:25.342707Z",
     "iopub.status.busy": "2024-03-06T19:17:25.342395Z",
     "iopub.status.idle": "2024-03-06T19:17:25.721302Z",
     "shell.execute_reply": "2024-03-06T19:17:25.720706Z",
     "shell.execute_reply.started": "2024-03-06T19:17:25.342686Z"
    },
    "tags": []
   },
   "outputs": [
    {
     "name": "stdout",
     "output_type": "stream",
     "text": [
      "Constellate: use and download of datasets is covered by the Terms & Conditions of Use: https://constellate.org/terms-and-conditions/\n",
      "INFO:numexpr.utils:NumExpr defaulting to 8 threads.\n"
     ]
    }
   ],
   "source": [
    "# Importing your dataset with a dataset ID\n",
    "import constellate\n",
    "import os\n",
    "from pathlib import Path\n",
    "import csv\n",
    "import pandas as pd\n",
    "\n",
    "# Check if a data folder exists. If not, create it.\n",
    "data_folder = Path('./data/')\n",
    "data_folder.mkdir(exist_ok=True)\n",
    "\n",
    "# Check to see if a dataset file exists\n",
    "# If not, download a dataset using the Constellate Client\n",
    "# The default dataset is Shakespeare Quarterly, 1950-present\n",
    "dataset_file = Path.cwd() / 'data' / 'my_data.jsonl.gz' # Make sure this filepath matches your dataset filename"
   ]
  },
  {
   "cell_type": "markdown",
   "metadata": {},
   "source": [
    "Import some of the packages we will need."
   ]
  },
  {
   "cell_type": "code",
   "execution_count": null,
   "metadata": {},
   "outputs": [],
   "source": []
  },
  {
   "cell_type": "markdown",
   "metadata": {},
   "source": [
    "Set up the dataframe"
   ]
  },
  {
   "cell_type": "code",
   "execution_count": 2,
   "metadata": {
    "execution": {
     "iopub.execute_input": "2024-03-06T19:17:28.328391Z",
     "iopub.status.busy": "2024-03-06T19:17:28.327746Z",
     "iopub.status.idle": "2024-03-06T19:17:28.334039Z",
     "shell.execute_reply": "2024-03-06T19:17:28.333335Z",
     "shell.execute_reply.started": "2024-03-06T19:17:28.328366Z"
    },
    "tags": []
   },
   "outputs": [],
   "source": [
    "df = pd.DataFrame(columns = ['id', 'docType', 'docSubType', 'provider', 'title', 'subTitle', 'collection', 'creator', 'publicationYear', \n",
    "                             'isPartOf', 'doi', 'pageStart', 'pageEnd', 'pageCount', 'wordCount', 'pagination', 'language', \n",
    "                             'publisher', 'placeOfPublication', 'identifier', 'abstract', 'url', 'tdmCategory', \n",
    "                             'sourceCategory', 'sequence', 'issueNumber', 'volumeNumber', 'outputFormat', 'datePublished', 'fullText' ])\n",
    "\n",
    "ft_folder = Path('./ft/')\n",
    "ft_folder.mkdir(exist_ok=True)\n",
    "#os.mkdir(\"fulltext\")\n"
   ]
  },
  {
   "cell_type": "markdown",
   "metadata": {},
   "source": [
    "Read each document using the tdm_client.dataset_reader and insert the pertinent fields into our dataframe."
   ]
  },
  {
   "cell_type": "code",
   "execution_count": 7,
   "metadata": {
    "execution": {
     "iopub.execute_input": "2024-03-06T21:26:52.378401Z",
     "iopub.status.busy": "2024-03-06T21:26:52.378027Z",
     "iopub.status.idle": "2024-03-06T21:26:52.413833Z",
     "shell.execute_reply": "2024-03-06T21:26:52.413229Z",
     "shell.execute_reply.started": "2024-03-06T21:26:52.378380Z"
    },
    "tags": []
   },
   "outputs": [
    {
     "name": "stdout",
     "output_type": "stream",
     "text": [
      "http:__www.jstor.org_stable_976884.txt\n",
      "http:__www.jstor.org_stable_3517931.txt\n",
      "http:__www.jstor.org_stable_10.13173_centasiaj.58.1-2.0228.txt\n",
      "http:__www.jstor.org_stable_10.5406_jsporthistory.43.2.250.txt\n",
      "http:__www.jstor.org_stable_24452479.txt\n",
      "http:__www.jstor.org_stable_43611606.txt\n",
      "http:__www.jstor.org_stable_45136330.txt\n",
      "http:__www.jstor.org_stable_10.13173_centasiaj.58.1-2.0227.txt\n",
      "http:__www.jstor.org_stable_48703935.txt\n",
      "http:__www.jstor.org_stable_43611621.txt\n",
      "http:__www.jstor.org_stable_10.5406_jsporthistory.43.2.251.txt\n",
      "http:__www.jstor.org_stable_24452564.txt\n"
     ]
    }
   ],
   "source": [
    "i=0;\n",
    "for document in constellate.dataset_reader(dataset_file):\n",
    "    #print(type(document))\n",
    "    i=i+1;\n",
    "    \n",
    "    ft_name = document.get('id', \"\")\n",
    "    ft_name = ft_name.replace('/', '_') + \".txt\"\n",
    "    \n",
    "    print(ft_name)\n",
    "    \n",
    "    ft=document.get('fullText', \"\")\n",
    "                    \n",
    "    with open('./ft/' + ft_name, 'w') as f:\n",
    "        for str in ft:\n",
    "            f.write(str)\n",
    "\n",
    "        df=pd.concat([df, pd.DataFrame.from_records([{'id' : document['id'], \n",
    "                  'docType':document.get('docType', \"\"), \n",
    "                  'docSubType':document.get('docSubType', \"\"),\n",
    "                  'provider':document.get('provider', \"\"),\n",
    "                  'title':document.get('title', \"\"),\n",
    "                  'subTitle':document.get('subTitle', \"\"),\n",
    "                  'collection':document.get('collection', \"\"),\n",
    "                  'creator':document.get('creator', \"\"),\n",
    "                  'publicationYear':document.get('publicationYear', \"\"),\n",
    "                  'isPartOf':document.get('isPartOf', \"\"),\n",
    "                  'doi':document.get('doi', \"\"),\n",
    "                  'pageStart':document.get('pageStart', \"\"),\n",
    "                  'pageEnd':document.get('pageEnd', \"\"),\n",
    "                  'pageCount':document.get('pageCount', \"\"),\n",
    "                  'wordCount':document.get('wordCount', \"\"),\n",
    "                  'pagination':document.get('pagination', \"\"),\n",
    "                  'language':document.get('language', \"\"),\n",
    "                  'publisher':document.get('publisher', \"\"),\n",
    "                  'placeOfPublication':document.get('placeOfPublication', \"\"),\n",
    "                  'identifier':document.get('identifier', \"\"),\n",
    "                  'abstract':document.get('abstract', \"\"),\n",
    "                  'url':document.get('url', \"\"),\n",
    "                  'wordCount':document.get('wordCount', \"\"),\n",
    "                  'tdmCategory':document.get('tdmCategory', \"\"),\n",
    "                  'sourceCategory':document.get('sourceCategory', \"\"),\n",
    "                  'sequence':document.get('sequence', \"\"),   \n",
    "                  'issueNumber':document.get('issueNumber', \"\"),\n",
    "                  'volumeNumber':document.get('volumeNumber', \"\"),\n",
    "                  'outputFormat':document.get('outputFormat', \"\"),\n",
    "                  'datePublished':document.get('datePublished', \"\")\n",
    "                 }])\n",
    "                  \n",
    "                ]\n",
    "                )\n",
    "        \n",
    "    "
   ]
  },
  {
   "cell_type": "code",
   "execution_count": 8,
   "metadata": {
    "execution": {
     "iopub.execute_input": "2024-03-06T21:27:02.378716Z",
     "iopub.status.busy": "2024-03-06T21:27:02.378140Z",
     "iopub.status.idle": "2024-03-06T21:27:02.383985Z",
     "shell.execute_reply": "2024-03-06T21:27:02.383445Z",
     "shell.execute_reply.started": "2024-03-06T21:27:02.378696Z"
    },
    "tags": []
   },
   "outputs": [],
   "source": [
    "df.to_csv(\"./data/my_data.md-with-abstracts.csv\", encoding='utf-8')"
   ]
  },
  {
   "cell_type": "code",
   "execution_count": null,
   "metadata": {},
   "outputs": [],
   "source": []
  }
 ],
 "metadata": {
  "kernelspec": {
   "display_name": "Python 3 (ipykernel)",
   "language": "python",
   "name": "python3"
  },
  "language_info": {
   "codemirror_mode": {
    "name": "ipython",
    "version": 3
   },
   "file_extension": ".py",
   "mimetype": "text/x-python",
   "name": "python",
   "nbconvert_exporter": "python",
   "pygments_lexer": "ipython3",
   "version": "3.10.6"
  },
  "toc": {
   "base_numbering": 1,
   "nav_menu": {},
   "number_sections": true,
   "sideBar": true,
   "skip_h1_title": true,
   "title_cell": "Table of Contents",
   "title_sidebar": "Contents",
   "toc_cell": false,
   "toc_position": {},
   "toc_section_display": true,
   "toc_window_display": false
  }
 },
 "nbformat": 4,
 "nbformat_minor": 4
}
