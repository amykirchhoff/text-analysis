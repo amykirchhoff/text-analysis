{
 "cells": [
  {
   "cell_type": "markdown",
   "id": "db55f112-2315-40f3-8446-3a1a845cfd77",
   "metadata": {},
   "source": [
    "## Work with our Tri-Gram Files"
   ]
  },
  {
   "cell_type": "code",
   "execution_count": 1,
   "id": "963042e7-02d3-46e3-9805-3be46bae5a1e",
   "metadata": {},
   "outputs": [],
   "source": [
    "# import what you need\n",
    "import pandas as pd\n",
    "from pathlib import Path\n",
    "import os\n",
    "import dask.dataframe as dd\n",
    "\n",
    "# Didn't end up using this much, I just made the notebook talk alot\n",
    "verbose=False\n",
    "\n",
    "# what are the dataset IDs\n",
    "# In the same directory as this notebook you should have a tri-gram CSV and matadata CSV for each dataset listed\n",
    "datasets = [\n",
    "        \"14334ee2-a661-5ca1-7186-abd90a3b4208\",\n",
    "        \"86467f7b-7428-f968-7307-4ca3512c6116\",\n",
    "        \"cbd0318c-73b5-141a-0b64-65a0a4662189\"\n",
    "    ]\n"
   ]
  },
  {
   "cell_type": "markdown",
   "id": "eec98e15-d355-40e2-ab07-38990a09b3ec",
   "metadata": {},
   "source": [
    "## Function to combine multiple CSV files into one"
   ]
  },
  {
   "cell_type": "markdown",
   "id": "7d2c5828-073f-48bb-800a-75baff965b2a",
   "metadata": {},
   "source": [
    "Combines multiple CSV files with identical structure into a single CSV file.\n",
    "    \n",
    "    Args:\n",
    "        input_files (list): List of paths to input CSV files\n",
    "        output_file (str): Path where the combined CSV will be saved\n",
    "        chunk_size (int): Number of rows to process at a time"
   ]
  },
  {
   "cell_type": "code",
   "execution_count": 2,
   "id": "76d1e779-060d-45ca-ae85-3f1b67b8aec3",
   "metadata": {},
   "outputs": [],
   "source": [
    "def combine_csv_files(input_files, output_file, chunk_size=100000):\n",
    "    print(\"\\nStarting CSV combination process...\")\n",
    "    \n",
    "    # Write header first\n",
    "    first_chunk = next(pd.read_csv(input_files[0] + \"-trigrams.csv\", chunksize=1))\n",
    "    first_chunk.columns.tolist()\n",
    "    \n",
    "    # Add publicationYear column to header\n",
    "    columns = list(first_chunk.columns) + ['publicationYear']\n",
    "    \n",
    "    # Initialize the output file with headers\n",
    "    with open(output_file, 'w', newline='') as f:\n",
    "        f.write(','.join(columns) + '\\n')\n",
    "    \n",
    "    total_rows = 0\n",
    "    \n",
    "    # Process each input file\n",
    "    for file_num, file in enumerate(input_files, 1):\n",
    "        print(f\"\\nProcessing file #{file_num}: {file}\")\n",
    "        \n",
    "        # Read metadata once for this file\n",
    "        metadata_df = pd.read_csv(file + \"-metadata.csv\")\n",
    "        year_mapping = metadata_df.set_index('id')['publicationYear'].to_dict()\n",
    "        \n",
    "        # Process the trigrams file in chunks\n",
    "        chunks = pd.read_csv(file + \"-trigrams.csv\", chunksize=chunk_size)\n",
    "        \n",
    "        for i, chunk in enumerate(chunks):\n",
    "            # Add publication year to the chunk\n",
    "            chunk['publicationYear'] = chunk['id'].map(year_mapping)\n",
    "            \n",
    "            # Append to output file\n",
    "            chunk.to_csv(output_file, mode='a', header=False, index=False)\n",
    "            \n",
    "            # Update progress\n",
    "            total_rows += len(chunk)\n",
    "            if (i + 1) % 10 == 0:\n",
    "                print(f\"Processed {total_rows:,} rows...\", end='\\r')\n",
    "    \n",
    "    print(f\"\\nCompleted! Total rows processed: {total_rows:,}\")"
   ]
  },
  {
   "cell_type": "markdown",
   "id": "6692a663-005d-4143-9266-8c857763ca3c",
   "metadata": {},
   "source": [
    "## Function to search the data for phrases\n",
    "Search through trigrams in chunks to minimize Memory usage"
   ]
  },
  {
   "cell_type": "code",
   "execution_count": 3,
   "id": "d676abf0-05da-4e4b-88d4-ae29cd308bc5",
   "metadata": {},
   "outputs": [],
   "source": [
    "def search_trigrams(filename, chunk_size=100000):\n",
    "    print(\"\\nLet's do some searching of your dataset.\")\n",
    "    \n",
    "    # Initialize counters for total documents\n",
    "    unique_docs = set()\n",
    "    \n",
    "    # Count total unique documents first\n",
    "    print(\"\\nCounting unique documents...\")\n",
    "    for chunk in pd.read_csv(filename, chunksize=chunk_size):\n",
    "        unique_docs.update(chunk['id'].unique())\n",
    "    \n",
    "    total_unique_docs = len(unique_docs)\n",
    "    print(f\"Total unique documents: {total_unique_docs:,}\")\n",
    "    \n",
    "    while True:\n",
    "        phrase = input(\"\\nENTER A SEARCH TERM (OR 'quit' to exit)? -->\")\n",
    "        if phrase.lower() == \"quit\":\n",
    "            break\n",
    "            \n",
    "        print(f\"\\nSearching for '{phrase}' in your dataset...\")\n",
    "        \n",
    "        # Initialize counters\n",
    "        total_matches = 0\n",
    "        matching_docs = set()\n",
    "        matches_data = []\n",
    "        \n",
    "        # Process in chunks\n",
    "        for chunk in pd.read_csv(filename, chunksize=chunk_size):\n",
    "            # Find matches in this chunk\n",
    "            chunk_matches = chunk[chunk['ngram'].str.contains(phrase, case=False, na=False)]\n",
    "            \n",
    "            # Update counters\n",
    "            total_matches += len(chunk_matches)\n",
    "            matching_docs.update(chunk_matches['id'].unique())\n",
    "            \n",
    "            # Store relevant data for summary\n",
    "            if not chunk_matches.empty:\n",
    "                matches_data.append(chunk_matches[['id', 'publicationYear', 'ngram', 'count']])\n",
    "        \n",
    "        # Print results\n",
    "        print(f\"\\nSummary Statistics for '{phrase}':\")\n",
    "        print(f\"\\tTotal trigram matches: {total_matches:,}\")\n",
    "        print(f\"\\tNumber of unique documents with matches: {len(matching_docs):,}\")\n",
    "        print(f\"\\tTotal number of unique documents in dataset: {total_unique_docs:,}\")\n",
    "        \n",
    "        # Create and save document summary if we found matches\n",
    "        if matches_data:\n",
    "            matches_df = pd.concat(matches_data, ignore_index=True)\n",
    "            doc_summary = matches_df.groupby(['id', 'publicationYear'])['count'].sum().reset_index()\n",
    "            doc_summary = doc_summary.sort_values(['count', 'publicationYear'], ascending=[False, True])\n",
    "            \n",
    "            output_filename = f\"{phrase}_document_summary.csv\"\n",
    "            doc_summary.to_csv(output_filename, index=False)\n",
    "            print(f\"\\nDocument-level summary saved to: {output_filename}\")\n",
    "            \n",
    "            # Display sample of matches\n",
    "            print(\"\\nSample of matching trigrams:\")\n",
    "            print(matches_df.head())\n",
    "        else:\n",
    "            print(\"\\nNo matches found.\")\n"
   ]
  },
  {
   "cell_type": "markdown",
   "id": "d0dd45d5-1a3d-4f1a-b08a-046a1a3d1928",
   "metadata": {},
   "source": [
    "## Let's build the combined CSV and get some stats"
   ]
  },
  {
   "cell_type": "code",
   "execution_count": null,
   "id": "a36a4e48-18a2-497f-8efa-9a347e920604",
   "metadata": {},
   "outputs": [
    {
     "name": "stdout",
     "output_type": "stream",
     "text": [
      "\n",
      "RUNNING ...\n",
      "\n",
      "You have told me to combine these files: ['14334ee2-a661-5ca1-7186-abd90a3b4208', '86467f7b-7428-f968-7307-4ca3512c6116', 'cbd0318c-73b5-141a-0b64-65a0a4662189']\n",
      "And to output the result to this file: combined_output.csv\n",
      "\n"
     ]
    },
    {
     "name": "stdin",
     "output_type": "stream",
     "text": [
      "FILE combined_output.csv ALREADY EXISTS. DO YOU WANT TO REBUILD AND OVERWRITE IT (could take awhile) OR USE IT? (rebuild/use) -->  rebuild\n"
     ]
    },
    {
     "name": "stdout",
     "output_type": "stream",
     "text": [
      "\n",
      "Great, let's recreate the combined file.\n",
      "\n",
      "Starting CSV combination process...\n",
      "\n",
      "Processing file #1: 14334ee2-a661-5ca1-7186-abd90a3b4208\n",
      "Processed 173,000,000 rows...\n",
      "Processing file #2: 86467f7b-7428-f968-7307-4ca3512c6116\n",
      "Processed 297,055,732 rows...\n",
      "Processing file #3: cbd0318c-73b5-141a-0b64-65a0a4662189\n",
      "Processed 364,777,132 rows...\n",
      "Completed! Total rows processed: 365,655,558\n",
      "\n",
      "Let's do some searching of your dataset.\n",
      "\n",
      "Counting unique documents...\n",
      "Total unique documents: 104,944\n"
     ]
    },
    {
     "name": "stdin",
     "output_type": "stream",
     "text": [
      "\n",
      "ENTER A SEARCH TERM (OR 'quit' to exit)? --> dewey\n"
     ]
    },
    {
     "name": "stdout",
     "output_type": "stream",
     "text": [
      "\n",
      "Searching for 'dewey' in your dataset...\n",
      "\n",
      "Summary Statistics for 'dewey':\n",
      "\tTotal trigram matches: 105,600\n",
      "\tNumber of unique documents with matches: 9,722\n",
      "\tTotal number of unique documents in dataset: 104,944\n",
      "\n",
      "Document-level summary saved to: dewey_document_summary.csv\n",
      "\n",
      "Sample of matching trigrams:\n",
      "                                    id  publicationYear  \\\n",
      "0   http://www.jstor.org/stable/431489             1991   \n",
      "1   http://www.jstor.org/stable/431489             1991   \n",
      "2   http://www.jstor.org/stable/431489             1991   \n",
      "3  http://www.jstor.org/stable/3840566             2006   \n",
      "4  http://www.jstor.org/stable/3840566             2006   \n",
      "\n",
      "                     ngram  count  \n",
      "0             as Dewey and      1  \n",
      "1         Dewey and Cizek.      1  \n",
      "2            such as Dewey      1  \n",
      "3  from Dewey's conviction      1  \n",
      "4    Dewey, and especially      1  \n"
     ]
    },
    {
     "name": "stdin",
     "output_type": "stream",
     "text": [
      "\n",
      "ENTER A SEARCH TERM (OR 'quit' to exit)? --> wittgenstein\n"
     ]
    },
    {
     "name": "stdout",
     "output_type": "stream",
     "text": [
      "\n",
      "Searching for 'wittgenstein' in your dataset...\n",
      "\n",
      "Summary Statistics for 'wittgenstein':\n",
      "\tTotal trigram matches: 159,018\n",
      "\tNumber of unique documents with matches: 9,990\n",
      "\tTotal number of unique documents in dataset: 104,944\n",
      "\n",
      "Document-level summary saved to: wittgenstein_document_summary.csv\n",
      "\n",
      "Sample of matching trigrams:\n",
      "                                    id  publicationYear  \\\n",
      "0  http://www.jstor.org/stable/2953772             1997   \n",
      "1  http://www.jstor.org/stable/2953772             1997   \n",
      "2  http://www.jstor.org/stable/2953772             1997   \n",
      "3  http://www.jstor.org/stable/2953772             1997   \n",
      "4  http://www.jstor.org/stable/2953772             1997   \n",
      "\n",
      "                          ngram  count  \n",
      "0      Wittgenstein. London and      1  \n",
      "1       S. Wittgenstein's Place      1  \n",
      "2  Practices: A Wittgensteinian      1  \n",
      "3       to Wittgenstein. London      1  \n",
      "4   Wittgensteinian Approach to      1  \n"
     ]
    },
    {
     "name": "stdin",
     "output_type": "stream",
     "text": [
      "\n",
      "ENTER A SEARCH TERM (OR 'quit' to exit)? --> pragmatism\n"
     ]
    },
    {
     "name": "stdout",
     "output_type": "stream",
     "text": [
      "\n",
      "Searching for 'pragmatism' in your dataset...\n"
     ]
    }
   ],
   "source": [
    "# What would be \"main\" in Perl\n",
    "print(\"\\nRUNNING ...\")\n",
    "\n",
    "print(\"\\nYou have told me to combine these files: \" + str(datasets))\n",
    "\n",
    "# Specify output file\n",
    "output = \"combined_output.csv\"\n",
    "\n",
    "print(\"And to output the result to this file: \" + output + \"\\n\")\n",
    "\n",
    "# Check if file exists\n",
    "if os.path.exists(output):\n",
    "    response = input(f\"FILE {output} ALREADY EXISTS. DO YOU WANT TO REBUILD AND OVERWRITE IT (could take awhile) OR USE IT? (rebuild/use) --> \")\n",
    "    if response.lower() == 'rebuild':\n",
    "        print(\"\\nGreat, let's recreate the combined file.\")\n",
    "        combine_csv_files(datasets, output)\n",
    "else:\n",
    "    print(\"\\nGreat, let's create the combined file.\")\n",
    "    combine_csv_files(datasets, output)\n",
    "\n",
    "# OK, now we've combined the tri-gram CSV file\n",
    "# and brought in the publication year from the metadata CSV files\n",
    "# do you want to search for phrases?\n",
    "search_trigrams(output)\n"
   ]
  }
 ],
 "metadata": {
  "kernelspec": {
   "display_name": "Python 3 (ipykernel)",
   "language": "python",
   "name": "python3"
  },
  "language_info": {
   "codemirror_mode": {
    "name": "ipython",
    "version": 3
   },
   "file_extension": ".py",
   "mimetype": "text/x-python",
   "name": "python",
   "nbconvert_exporter": "python",
   "pygments_lexer": "ipython3",
   "version": "3.12.7"
  }
 },
 "nbformat": 4,
 "nbformat_minor": 5
}
